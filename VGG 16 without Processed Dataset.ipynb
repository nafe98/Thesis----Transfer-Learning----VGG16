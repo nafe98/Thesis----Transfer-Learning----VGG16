{
 "cells": [
  {
   "cell_type": "code",
   "execution_count": 1,
   "metadata": {},
   "outputs": [],
   "source": [
    "# import the libraries as shown below\n",
    "\n",
    "from keras.layers import Input, Lambda, Dense, Flatten\n",
    "from keras.models import Model\n",
    "from keras.applications.vgg16 import VGG16\n",
    "from keras.applications.vgg16 import preprocess_input\n",
    "from keras.preprocessing import image\n",
    "from keras.preprocessing.image import ImageDataGenerator\n",
    "from keras.models import Sequential\n",
    "import numpy as np\n",
    "from glob import glob\n",
    "import matplotlib.pyplot as plt"
   ]
  },
  {
   "cell_type": "code",
   "execution_count": 2,
   "metadata": {},
   "outputs": [],
   "source": [
    "# re-size all the images to this\n",
    "IMAGE_SIZE = [224, 224]\n",
    "\n",
    "train_path = 'Train'\n",
    "valid_path = 'Test'"
   ]
  },
  {
   "cell_type": "code",
   "execution_count": 3,
   "metadata": {},
   "outputs": [],
   "source": [
    "# Import the Vgg 16 library as shown below and add preprocessing layer to the front of VGG\n",
    "# Here we will be using imagenet weights\n",
    "\n",
    "vgg = VGG16(input_shape=IMAGE_SIZE + [3], weights='imagenet', include_top=False)"
   ]
  },
  {
   "cell_type": "code",
   "execution_count": 4,
   "metadata": {},
   "outputs": [],
   "source": [
    "# don't train existing weights\n",
    "for layer in vgg.layers:\n",
    "    layer.trainable = False"
   ]
  },
  {
   "cell_type": "code",
   "execution_count": 5,
   "metadata": {},
   "outputs": [],
   "source": [
    "# useful for getting number of output classes\n",
    "folders = glob('Train/*')"
   ]
  },
  {
   "cell_type": "code",
   "execution_count": 6,
   "metadata": {},
   "outputs": [],
   "source": [
    "# our layers - you can add more if you want\n",
    "x = Flatten()(vgg.output)"
   ]
  },
  {
   "cell_type": "code",
   "execution_count": 7,
   "metadata": {},
   "outputs": [],
   "source": [
    "prediction = Dense(len(folders), activation='softmax')(x)\n",
    "\n",
    "# create a model object\n",
    "model = Model(inputs=vgg.input, outputs=prediction)"
   ]
  },
  {
   "cell_type": "code",
   "execution_count": 8,
   "metadata": {},
   "outputs": [
    {
     "name": "stdout",
     "output_type": "stream",
     "text": [
      "Model: \"model\"\n",
      "_________________________________________________________________\n",
      "Layer (type)                 Output Shape              Param #   \n",
      "=================================================================\n",
      "input_1 (InputLayer)         [(None, 224, 224, 3)]     0         \n",
      "_________________________________________________________________\n",
      "block1_conv1 (Conv2D)        (None, 224, 224, 64)      1792      \n",
      "_________________________________________________________________\n",
      "block1_conv2 (Conv2D)        (None, 224, 224, 64)      36928     \n",
      "_________________________________________________________________\n",
      "block1_pool (MaxPooling2D)   (None, 112, 112, 64)      0         \n",
      "_________________________________________________________________\n",
      "block2_conv1 (Conv2D)        (None, 112, 112, 128)     73856     \n",
      "_________________________________________________________________\n",
      "block2_conv2 (Conv2D)        (None, 112, 112, 128)     147584    \n",
      "_________________________________________________________________\n",
      "block2_pool (MaxPooling2D)   (None, 56, 56, 128)       0         \n",
      "_________________________________________________________________\n",
      "block3_conv1 (Conv2D)        (None, 56, 56, 256)       295168    \n",
      "_________________________________________________________________\n",
      "block3_conv2 (Conv2D)        (None, 56, 56, 256)       590080    \n",
      "_________________________________________________________________\n",
      "block3_conv3 (Conv2D)        (None, 56, 56, 256)       590080    \n",
      "_________________________________________________________________\n",
      "block3_pool (MaxPooling2D)   (None, 28, 28, 256)       0         \n",
      "_________________________________________________________________\n",
      "block4_conv1 (Conv2D)        (None, 28, 28, 512)       1180160   \n",
      "_________________________________________________________________\n",
      "block4_conv2 (Conv2D)        (None, 28, 28, 512)       2359808   \n",
      "_________________________________________________________________\n",
      "block4_conv3 (Conv2D)        (None, 28, 28, 512)       2359808   \n",
      "_________________________________________________________________\n",
      "block4_pool (MaxPooling2D)   (None, 14, 14, 512)       0         \n",
      "_________________________________________________________________\n",
      "block5_conv1 (Conv2D)        (None, 14, 14, 512)       2359808   \n",
      "_________________________________________________________________\n",
      "block5_conv2 (Conv2D)        (None, 14, 14, 512)       2359808   \n",
      "_________________________________________________________________\n",
      "block5_conv3 (Conv2D)        (None, 14, 14, 512)       2359808   \n",
      "_________________________________________________________________\n",
      "block5_pool (MaxPooling2D)   (None, 7, 7, 512)         0         \n",
      "_________________________________________________________________\n",
      "flatten (Flatten)            (None, 25088)             0         \n",
      "_________________________________________________________________\n",
      "dense (Dense)                (None, 3)                 75267     \n",
      "=================================================================\n",
      "Total params: 14,789,955\n",
      "Trainable params: 75,267\n",
      "Non-trainable params: 14,714,688\n",
      "_________________________________________________________________\n"
     ]
    }
   ],
   "source": [
    "# view the structure of the model\n",
    "model.summary()"
   ]
  },
  {
   "cell_type": "code",
   "execution_count": 9,
   "metadata": {},
   "outputs": [],
   "source": [
    "# tell the model what cost and optimization method to use\n",
    "model.compile(\n",
    "  loss='categorical_crossentropy',\n",
    "  optimizer='adam',\n",
    "  metrics=['accuracy']\n",
    ")"
   ]
  },
  {
   "cell_type": "code",
   "execution_count": 10,
   "metadata": {},
   "outputs": [],
   "source": [
    "# Use the Image Data Generator to import the images from the dataset\n",
    "from keras.preprocessing.image import ImageDataGenerator\n",
    "\n",
    "train_datagen = ImageDataGenerator(rescale = 1./255,\n",
    "                                   shear_range = 0.2,\n",
    "                                   zoom_range = 0.2,\n",
    "                                   horizontal_flip = True)\n",
    "\n",
    "test_datagen = ImageDataGenerator(rescale = 1./255,\n",
    "                                   shear_range = 0.2,\n",
    "                                   zoom_range = 0.2,\n",
    "                                   horizontal_flip = True)"
   ]
  },
  {
   "cell_type": "code",
   "execution_count": 11,
   "metadata": {},
   "outputs": [
    {
     "name": "stdout",
     "output_type": "stream",
     "text": [
      "Found 768 images belonging to 3 classes.\n"
     ]
    }
   ],
   "source": [
    "# Make sure you provide the same target size as initialied for the image size\n",
    "training_set = train_datagen.flow_from_directory('Train',\n",
    "                                                 target_size = (224, 224),\n",
    "                                                 batch_size = 128,\n",
    "                                                 class_mode = 'categorical')"
   ]
  },
  {
   "cell_type": "code",
   "execution_count": 12,
   "metadata": {},
   "outputs": [
    {
     "name": "stdout",
     "output_type": "stream",
     "text": [
      "Found 329 images belonging to 3 classes.\n"
     ]
    }
   ],
   "source": [
    "test_set = test_datagen.flow_from_directory('Test',\n",
    "                                            target_size = (224, 224),\n",
    "                                            batch_size = 128,\n",
    "                                            class_mode = 'categorical')"
   ]
  },
  {
   "cell_type": "code",
   "execution_count": 13,
   "metadata": {},
   "outputs": [
    {
     "name": "stderr",
     "output_type": "stream",
     "text": [
      "C:\\Users\\nafem\\AppData\\Roaming\\Python\\Python38\\site-packages\\tensorflow\\python\\keras\\engine\\training.py:1844: UserWarning: `Model.fit_generator` is deprecated and will be removed in a future version. Please use `Model.fit`, which supports generators.\n",
      "  warnings.warn('`Model.fit_generator` is deprecated and '\n"
     ]
    },
    {
     "name": "stdout",
     "output_type": "stream",
     "text": [
      "Epoch 1/100\n",
      "6/6 [==============================] - 38s 4s/step - loss: 1.4468 - accuracy: 0.4706 - val_loss: 1.2940 - val_accuracy: 0.5866\n",
      "Epoch 2/100\n",
      "6/6 [==============================] - 11s 2s/step - loss: 0.8333 - accuracy: 0.7002 - val_loss: 0.9099 - val_accuracy: 0.5957\n",
      "Epoch 3/100\n",
      "6/6 [==============================] - 11s 2s/step - loss: 0.5518 - accuracy: 0.7760 - val_loss: 0.6222 - val_accuracy: 0.8298\n",
      "Epoch 4/100\n",
      "6/6 [==============================] - 11s 2s/step - loss: 0.4302 - accuracy: 0.8406 - val_loss: 0.6439 - val_accuracy: 0.7295\n",
      "Epoch 5/100\n",
      "6/6 [==============================] - 11s 2s/step - loss: 0.3800 - accuracy: 0.8258 - val_loss: 0.5712 - val_accuracy: 0.8116\n",
      "Epoch 6/100\n",
      "6/6 [==============================] - 11s 2s/step - loss: 0.3078 - accuracy: 0.9063 - val_loss: 0.5348 - val_accuracy: 0.8298\n",
      "Epoch 7/100\n",
      "6/6 [==============================] - 11s 2s/step - loss: 0.2667 - accuracy: 0.9117 - val_loss: 0.5463 - val_accuracy: 0.7964\n",
      "Epoch 8/100\n",
      "6/6 [==============================] - 11s 2s/step - loss: 0.2293 - accuracy: 0.9305 - val_loss: 0.5772 - val_accuracy: 0.8085\n",
      "Epoch 9/100\n",
      "6/6 [==============================] - 11s 2s/step - loss: 0.2035 - accuracy: 0.9464 - val_loss: 0.5342 - val_accuracy: 0.8267\n",
      "Epoch 10/100\n",
      "6/6 [==============================] - 11s 2s/step - loss: 0.1963 - accuracy: 0.9424 - val_loss: 0.5956 - val_accuracy: 0.7629\n",
      "Epoch 11/100\n",
      "6/6 [==============================] - 11s 2s/step - loss: 0.1735 - accuracy: 0.9516 - val_loss: 0.5839 - val_accuracy: 0.7812\n",
      "Epoch 12/100\n",
      "6/6 [==============================] - 11s 2s/step - loss: 0.1564 - accuracy: 0.9638 - val_loss: 0.5668 - val_accuracy: 0.7660\n",
      "Epoch 13/100\n",
      "6/6 [==============================] - 11s 2s/step - loss: 0.1458 - accuracy: 0.9726 - val_loss: 0.5382 - val_accuracy: 0.8176\n",
      "Epoch 14/100\n",
      "6/6 [==============================] - 11s 2s/step - loss: 0.1463 - accuracy: 0.9590 - val_loss: 0.5231 - val_accuracy: 0.8237\n",
      "Epoch 15/100\n",
      "6/6 [==============================] - 11s 2s/step - loss: 0.1238 - accuracy: 0.9722 - val_loss: 0.6048 - val_accuracy: 0.7660\n",
      "Epoch 16/100\n",
      "6/6 [==============================] - 11s 2s/step - loss: 0.1191 - accuracy: 0.9786 - val_loss: 0.5580 - val_accuracy: 0.7751\n",
      "Epoch 17/100\n",
      "6/6 [==============================] - 11s 2s/step - loss: 0.1170 - accuracy: 0.9767 - val_loss: 0.5847 - val_accuracy: 0.7903\n",
      "Epoch 18/100\n",
      "6/6 [==============================] - 11s 2s/step - loss: 0.1197 - accuracy: 0.9771 - val_loss: 0.5256 - val_accuracy: 0.8176\n",
      "Epoch 19/100\n",
      "6/6 [==============================] - 11s 2s/step - loss: 0.1176 - accuracy: 0.9777 - val_loss: 0.5380 - val_accuracy: 0.8237\n",
      "Epoch 20/100\n",
      "6/6 [==============================] - 11s 2s/step - loss: 0.0971 - accuracy: 0.9847 - val_loss: 0.6310 - val_accuracy: 0.7477\n",
      "Epoch 21/100\n",
      "6/6 [==============================] - 11s 2s/step - loss: 0.1126 - accuracy: 0.9832 - val_loss: 0.5844 - val_accuracy: 0.7812\n",
      "Epoch 22/100\n",
      "6/6 [==============================] - 11s 2s/step - loss: 0.1008 - accuracy: 0.9813 - val_loss: 0.5471 - val_accuracy: 0.8237\n",
      "Epoch 23/100\n",
      "6/6 [==============================] - 11s 2s/step - loss: 0.0944 - accuracy: 0.9814 - val_loss: 0.5665 - val_accuracy: 0.8024\n",
      "Epoch 24/100\n",
      "6/6 [==============================] - 11s 2s/step - loss: 0.0876 - accuracy: 0.9797 - val_loss: 0.6208 - val_accuracy: 0.7568\n",
      "Epoch 25/100\n",
      "6/6 [==============================] - 11s 2s/step - loss: 0.0794 - accuracy: 0.9909 - val_loss: 0.5998 - val_accuracy: 0.7812\n",
      "Epoch 26/100\n",
      "6/6 [==============================] - 11s 2s/step - loss: 0.0740 - accuracy: 0.9943 - val_loss: 0.6257 - val_accuracy: 0.7751\n",
      "Epoch 27/100\n",
      "6/6 [==============================] - 11s 2s/step - loss: 0.0744 - accuracy: 0.9924 - val_loss: 0.5833 - val_accuracy: 0.7781\n",
      "Epoch 28/100\n",
      "6/6 [==============================] - 11s 2s/step - loss: 0.0750 - accuracy: 0.9872 - val_loss: 0.5600 - val_accuracy: 0.7994\n",
      "Epoch 29/100\n",
      "6/6 [==============================] - 11s 2s/step - loss: 0.0655 - accuracy: 0.9917 - val_loss: 0.6065 - val_accuracy: 0.7751\n",
      "Epoch 30/100\n",
      "6/6 [==============================] - 11s 2s/step - loss: 0.0589 - accuracy: 0.9942 - val_loss: 0.6671 - val_accuracy: 0.7538\n",
      "Epoch 31/100\n",
      "6/6 [==============================] - 11s 2s/step - loss: 0.0694 - accuracy: 0.9875 - val_loss: 0.5944 - val_accuracy: 0.7872\n",
      "Epoch 32/100\n",
      "6/6 [==============================] - 11s 2s/step - loss: 0.0613 - accuracy: 0.9911 - val_loss: 0.6654 - val_accuracy: 0.7447\n",
      "Epoch 33/100\n",
      "6/6 [==============================] - 12s 2s/step - loss: 0.0658 - accuracy: 0.9876 - val_loss: 0.6051 - val_accuracy: 0.7538\n",
      "Epoch 34/100\n",
      "6/6 [==============================] - 11s 2s/step - loss: 0.0641 - accuracy: 0.9908 - val_loss: 0.7199 - val_accuracy: 0.7325\n",
      "Epoch 35/100\n",
      "6/6 [==============================] - 11s 2s/step - loss: 0.0566 - accuracy: 0.9956 - val_loss: 0.5772 - val_accuracy: 0.7964\n",
      "Epoch 36/100\n",
      "6/6 [==============================] - 11s 2s/step - loss: 0.0583 - accuracy: 0.9911 - val_loss: 0.5881 - val_accuracy: 0.7660\n",
      "Epoch 37/100\n",
      "6/6 [==============================] - 11s 2s/step - loss: 0.0508 - accuracy: 0.9973 - val_loss: 0.5898 - val_accuracy: 0.7660\n",
      "Epoch 38/100\n",
      "6/6 [==============================] - 11s 2s/step - loss: 0.0524 - accuracy: 0.9916 - val_loss: 0.6102 - val_accuracy: 0.7781\n",
      "Epoch 39/100\n",
      "6/6 [==============================] - 11s 2s/step - loss: 0.0542 - accuracy: 0.9968 - val_loss: 0.7212 - val_accuracy: 0.7356\n",
      "Epoch 40/100\n",
      "6/6 [==============================] - 11s 2s/step - loss: 0.0537 - accuracy: 0.9964 - val_loss: 0.6022 - val_accuracy: 0.7842\n",
      "Epoch 41/100\n",
      "6/6 [==============================] - 11s 2s/step - loss: 0.0471 - accuracy: 0.9972 - val_loss: 0.6380 - val_accuracy: 0.7812\n",
      "Epoch 42/100\n",
      "6/6 [==============================] - 11s 2s/step - loss: 0.0439 - accuracy: 1.0000 - val_loss: 0.6459 - val_accuracy: 0.7933\n",
      "Epoch 43/100\n",
      "6/6 [==============================] - 11s 2s/step - loss: 0.0439 - accuracy: 0.9961 - val_loss: 0.7242 - val_accuracy: 0.7508\n",
      "Epoch 44/100\n",
      "6/6 [==============================] - 11s 2s/step - loss: 0.0459 - accuracy: 0.9982 - val_loss: 0.6444 - val_accuracy: 0.7842\n",
      "Epoch 45/100\n",
      "6/6 [==============================] - 11s 2s/step - loss: 0.0415 - accuracy: 0.9982 - val_loss: 0.7322 - val_accuracy: 0.7538\n",
      "Epoch 46/100\n",
      "6/6 [==============================] - 11s 2s/step - loss: 0.0412 - accuracy: 0.9950 - val_loss: 0.6200 - val_accuracy: 0.7872\n",
      "Epoch 47/100\n",
      "6/6 [==============================] - 11s 2s/step - loss: 0.0482 - accuracy: 0.9953 - val_loss: 0.6825 - val_accuracy: 0.7842\n",
      "Epoch 48/100\n",
      "6/6 [==============================] - 11s 2s/step - loss: 0.0411 - accuracy: 0.9957 - val_loss: 0.7252 - val_accuracy: 0.7356\n",
      "Epoch 49/100\n",
      "6/6 [==============================] - 11s 2s/step - loss: 0.0401 - accuracy: 0.9952 - val_loss: 0.6515 - val_accuracy: 0.7933\n",
      "Epoch 50/100\n",
      "6/6 [==============================] - 11s 2s/step - loss: 0.0347 - accuracy: 0.9982 - val_loss: 0.6857 - val_accuracy: 0.7720\n",
      "Epoch 51/100\n",
      "6/6 [==============================] - 11s 2s/step - loss: 0.0394 - accuracy: 0.9964 - val_loss: 0.6893 - val_accuracy: 0.7599\n",
      "Epoch 52/100\n",
      "6/6 [==============================] - 11s 2s/step - loss: 0.0329 - accuracy: 0.9979 - val_loss: 0.6132 - val_accuracy: 0.7812\n",
      "Epoch 53/100\n",
      "6/6 [==============================] - 11s 2s/step - loss: 0.0351 - accuracy: 0.9978 - val_loss: 0.7594 - val_accuracy: 0.7568\n",
      "Epoch 54/100\n",
      "6/6 [==============================] - 11s 2s/step - loss: 0.0368 - accuracy: 0.9949 - val_loss: 0.6329 - val_accuracy: 0.7903\n",
      "Epoch 55/100\n",
      "6/6 [==============================] - 11s 2s/step - loss: 0.0290 - accuracy: 0.9996 - val_loss: 0.6314 - val_accuracy: 0.7964\n",
      "Epoch 56/100\n",
      "6/6 [==============================] - 11s 2s/step - loss: 0.0326 - accuracy: 0.9982 - val_loss: 0.7236 - val_accuracy: 0.7629\n",
      "Epoch 57/100\n",
      "6/6 [==============================] - 11s 2s/step - loss: 0.0329 - accuracy: 1.0000 - val_loss: 0.7530 - val_accuracy: 0.7538\n",
      "Epoch 58/100\n",
      "6/6 [==============================] - 11s 2s/step - loss: 0.0285 - accuracy: 1.0000 - val_loss: 0.7065 - val_accuracy: 0.7842\n",
      "Epoch 59/100\n"
     ]
    },
    {
     "name": "stdout",
     "output_type": "stream",
     "text": [
      "6/6 [==============================] - 11s 2s/step - loss: 0.0282 - accuracy: 0.9982 - val_loss: 0.7769 - val_accuracy: 0.7599\n",
      "Epoch 60/100\n",
      "6/6 [==============================] - 11s 2s/step - loss: 0.0291 - accuracy: 0.9994 - val_loss: 0.6810 - val_accuracy: 0.7568\n",
      "Epoch 61/100\n",
      "6/6 [==============================] - 11s 2s/step - loss: 0.0270 - accuracy: 1.0000 - val_loss: 0.6983 - val_accuracy: 0.7842\n",
      "Epoch 62/100\n",
      "6/6 [==============================] - 11s 2s/step - loss: 0.0279 - accuracy: 0.9979 - val_loss: 0.7561 - val_accuracy: 0.7508\n",
      "Epoch 63/100\n",
      "6/6 [==============================] - 11s 2s/step - loss: 0.0252 - accuracy: 1.0000 - val_loss: 0.6833 - val_accuracy: 0.8024\n",
      "Epoch 64/100\n",
      "6/6 [==============================] - 11s 2s/step - loss: 0.0316 - accuracy: 0.9953 - val_loss: 0.8233 - val_accuracy: 0.7386\n",
      "Epoch 65/100\n",
      "6/6 [==============================] - 11s 2s/step - loss: 0.0246 - accuracy: 1.0000 - val_loss: 0.6658 - val_accuracy: 0.7751\n",
      "Epoch 66/100\n",
      "6/6 [==============================] - 11s 2s/step - loss: 0.0250 - accuracy: 1.0000 - val_loss: 0.6839 - val_accuracy: 0.7812\n",
      "Epoch 67/100\n",
      "6/6 [==============================] - 11s 2s/step - loss: 0.0234 - accuracy: 0.9973 - val_loss: 0.7970 - val_accuracy: 0.7629\n",
      "Epoch 68/100\n",
      "6/6 [==============================] - 11s 2s/step - loss: 0.0221 - accuracy: 1.0000 - val_loss: 0.6396 - val_accuracy: 0.7842\n",
      "Epoch 69/100\n",
      "6/6 [==============================] - 11s 2s/step - loss: 0.0272 - accuracy: 0.9971 - val_loss: 0.7505 - val_accuracy: 0.7690\n",
      "Epoch 70/100\n",
      "6/6 [==============================] - 11s 2s/step - loss: 0.0233 - accuracy: 0.9994 - val_loss: 0.7412 - val_accuracy: 0.7812\n",
      "Epoch 71/100\n",
      "6/6 [==============================] - 11s 2s/step - loss: 0.0232 - accuracy: 0.9991 - val_loss: 0.6557 - val_accuracy: 0.8116\n",
      "Epoch 72/100\n",
      "6/6 [==============================] - 11s 2s/step - loss: 0.0238 - accuracy: 1.0000 - val_loss: 0.8909 - val_accuracy: 0.7568\n",
      "Epoch 73/100\n",
      "6/6 [==============================] - 11s 2s/step - loss: 0.0287 - accuracy: 0.9982 - val_loss: 0.6619 - val_accuracy: 0.7964\n",
      "Epoch 74/100\n",
      "6/6 [==============================] - 11s 2s/step - loss: 0.0193 - accuracy: 0.9973 - val_loss: 0.8465 - val_accuracy: 0.7356\n",
      "Epoch 75/100\n",
      "6/6 [==============================] - 11s 2s/step - loss: 0.0204 - accuracy: 0.9994 - val_loss: 0.6885 - val_accuracy: 0.7842\n",
      "Epoch 76/100\n",
      "6/6 [==============================] - 11s 2s/step - loss: 0.0223 - accuracy: 0.9973 - val_loss: 0.6991 - val_accuracy: 0.7751\n",
      "Epoch 77/100\n",
      "6/6 [==============================] - 11s 2s/step - loss: 0.0193 - accuracy: 1.0000 - val_loss: 0.7071 - val_accuracy: 0.7690\n",
      "Epoch 78/100\n",
      "6/6 [==============================] - 11s 2s/step - loss: 0.0188 - accuracy: 1.0000 - val_loss: 0.7430 - val_accuracy: 0.7751\n",
      "Epoch 79/100\n",
      "6/6 [==============================] - 11s 2s/step - loss: 0.0164 - accuracy: 1.0000 - val_loss: 0.7190 - val_accuracy: 0.7812\n",
      "Epoch 80/100\n",
      "6/6 [==============================] - 11s 2s/step - loss: 0.0173 - accuracy: 1.0000 - val_loss: 0.7641 - val_accuracy: 0.7812\n",
      "Epoch 81/100\n",
      "6/6 [==============================] - 11s 2s/step - loss: 0.0171 - accuracy: 1.0000 - val_loss: 0.7261 - val_accuracy: 0.7751\n",
      "Epoch 82/100\n",
      "6/6 [==============================] - 11s 2s/step - loss: 0.0179 - accuracy: 1.0000 - val_loss: 0.8079 - val_accuracy: 0.7690\n",
      "Epoch 83/100\n",
      "6/6 [==============================] - 11s 2s/step - loss: 0.0191 - accuracy: 1.0000 - val_loss: 0.7292 - val_accuracy: 0.7812\n",
      "Epoch 84/100\n",
      "6/6 [==============================] - 11s 2s/step - loss: 0.0185 - accuracy: 1.0000 - val_loss: 0.6784 - val_accuracy: 0.7720\n",
      "Epoch 85/100\n",
      "6/6 [==============================] - 11s 2s/step - loss: 0.0158 - accuracy: 1.0000 - val_loss: 0.7195 - val_accuracy: 0.7751\n",
      "Epoch 86/100\n",
      "6/6 [==============================] - 11s 2s/step - loss: 0.0206 - accuracy: 0.9982 - val_loss: 0.7756 - val_accuracy: 0.7660\n",
      "Epoch 87/100\n",
      "6/6 [==============================] - 11s 2s/step - loss: 0.0153 - accuracy: 0.9996 - val_loss: 0.8079 - val_accuracy: 0.7660\n",
      "Epoch 88/100\n",
      "6/6 [==============================] - 11s 2s/step - loss: 0.0157 - accuracy: 1.0000 - val_loss: 0.7688 - val_accuracy: 0.7690\n",
      "Epoch 89/100\n",
      "6/6 [==============================] - 11s 2s/step - loss: 0.0165 - accuracy: 1.0000 - val_loss: 0.8139 - val_accuracy: 0.7599\n",
      "Epoch 90/100\n",
      "6/6 [==============================] - 11s 2s/step - loss: 0.0174 - accuracy: 1.0000 - val_loss: 0.7714 - val_accuracy: 0.7872\n",
      "Epoch 91/100\n",
      "6/6 [==============================] - 11s 2s/step - loss: 0.0155 - accuracy: 1.0000 - val_loss: 0.8320 - val_accuracy: 0.7599\n",
      "Epoch 92/100\n",
      "6/6 [==============================] - 11s 2s/step - loss: 0.0183 - accuracy: 1.0000 - val_loss: 0.7025 - val_accuracy: 0.7994\n",
      "Epoch 93/100\n",
      "6/6 [==============================] - 11s 2s/step - loss: 0.0160 - accuracy: 1.0000 - val_loss: 0.8128 - val_accuracy: 0.7720\n",
      "Epoch 94/100\n",
      "6/6 [==============================] - 11s 2s/step - loss: 0.0162 - accuracy: 1.0000 - val_loss: 0.7918 - val_accuracy: 0.7720\n",
      "Epoch 95/100\n",
      "6/6 [==============================] - 11s 2s/step - loss: 0.0153 - accuracy: 1.0000 - val_loss: 0.8109 - val_accuracy: 0.7720\n",
      "Epoch 96/100\n",
      "6/6 [==============================] - 11s 2s/step - loss: 0.0166 - accuracy: 0.9979 - val_loss: 0.7314 - val_accuracy: 0.7842\n",
      "Epoch 97/100\n",
      "6/6 [==============================] - 11s 2s/step - loss: 0.0158 - accuracy: 0.9988 - val_loss: 0.8206 - val_accuracy: 0.7720\n",
      "Epoch 98/100\n",
      "6/6 [==============================] - 11s 2s/step - loss: 0.0124 - accuracy: 1.0000 - val_loss: 0.8270 - val_accuracy: 0.7781\n",
      "Epoch 99/100\n",
      "6/6 [==============================] - 11s 2s/step - loss: 0.0133 - accuracy: 0.9988 - val_loss: 0.8257 - val_accuracy: 0.7629\n",
      "Epoch 100/100\n",
      "6/6 [==============================] - 11s 2s/step - loss: 0.0129 - accuracy: 1.0000 - val_loss: 0.7753 - val_accuracy: 0.7751\n"
     ]
    }
   ],
   "source": [
    "# fit the model\n",
    "# Run the cell. It will take some time to execute\n",
    "r = model.fit_generator(\n",
    "  training_set,\n",
    "  validation_data=test_set,\n",
    "  epochs=100,\n",
    "  steps_per_epoch=len(training_set),\n",
    "  validation_steps=len(test_set)\n",
    ")"
   ]
  },
  {
   "cell_type": "code",
   "execution_count": 15,
   "metadata": {},
   "outputs": [
    {
     "name": "stderr",
     "output_type": "stream",
     "text": [
      "C:\\Users\\nafem\\AppData\\Roaming\\Python\\Python38\\site-packages\\tensorflow\\python\\keras\\engine\\training.py:1877: UserWarning: `Model.evaluate_generator` is deprecated and will be removed in a future version. Please use `Model.evaluate`, which supports generators.\n",
      "  warnings.warn('`Model.evaluate_generator` is deprecated and '\n"
     ]
    },
    {
     "name": "stdout",
     "output_type": "stream",
     "text": [
      "WARNING:tensorflow:Your input ran out of data; interrupting training. Make sure that your dataset or generator can generate at least `steps_per_epoch * epochs` batches (in this case, 128 batches). You may need to use the repeat() function when building your dataset.\n",
      "[INFO] accuracy: 79.03%\n",
      "[INFO] Loss:  0.7549355030059814\n"
     ]
    }
   ],
   "source": [
    "test_score = model.evaluate_generator(test_set, 128)\n",
    "\n",
    "print(\"[INFO] accuracy: {:.2f}%\".format(test_score[1] * 100)) \n",
    "\n",
    "print(\"[INFO] Loss: \",test_score[0])"
   ]
  },
  {
   "cell_type": "code",
   "execution_count": 16,
   "metadata": {},
   "outputs": [
    {
     "data": {
      "text/plain": [
       "Text(0.5, 1.0, 'Accuracy Curves')"
      ]
     },
     "execution_count": 16,
     "metadata": {},
     "output_type": "execute_result"
    },
    {
     "data": {
      "image/png": "[encoded data removed]",
      "text/plain": [
       "<Figure size 576x432 with 1 Axes>"
      ]
     },
     "metadata": {
      "needs_background": "light"
     },
     "output_type": "display_data"
    }
   ],
   "source": [
    "# Accuracy Curves\n",
    "\n",
    "plt.figure(figsize=[8,6])\n",
    "\n",
    "plt.plot(r.history['accuracy'],'r',linewidth=3.0)\n",
    "\n",
    "plt.plot(r.history['val_accuracy'],'b',linewidth=3.0)\n",
    "\n",
    "plt.legend(['Training Accuracy', 'Validation Accuracy'],fontsize=18)\n",
    "\n",
    "plt.xlabel('Epochs ',fontsize=16)\n",
    "\n",
    "plt.ylabel('Accuracy',fontsize=16)\n",
    "\n",
    "plt.title('Accuracy Curves',fontsize=16)"
   ]
  },
  {
   "cell_type": "code",
   "execution_count": 17,
   "metadata": {},
   "outputs": [
    {
     "data": {
      "text/plain": [
       "Text(0.5, 1.0, 'Loss Curves')"
      ]
     },
     "execution_count": 17,
     "metadata": {},
     "output_type": "execute_result"
    },
    {
     "data": {
      "image/png": "[encoded data removed]",
      "text/plain": [
       "<Figure size 576x432 with 1 Axes>"
      ]
     },
     "metadata": {
      "needs_background": "light"
     },
     "output_type": "display_data"
    }
   ],
   "source": [
    "# Loss Curves\n",
    "\n",
    "plt.figure(figsize=[8,6])\n",
    "\n",
    "plt.plot(r.history['loss'],'r',linewidth=3.0)\n",
    "\n",
    "plt.plot(r.history['val_loss'],'b',linewidth=3.0)\n",
    "\n",
    "plt.legend(['Training loss', 'Validation Loss'],fontsize=18)\n",
    "\n",
    "plt.xlabel('Epochs ',fontsize=16)\n",
    "\n",
    "plt.ylabel('Loss',fontsize=16)\n",
    "\n",
    "plt.title('Loss Curves',fontsize=16)"
   ]
  },
  {
   "cell_type": "code",
   "execution_count": 18,
   "metadata": {},
   "outputs": [],
   "source": [
    "target_names = []\n",
    "\n",
    "for key in  training_set.class_indices:\n",
    "\n",
    "    target_names.append(key)"
   ]
  },
  {
   "cell_type": "code",
   "execution_count": 19,
   "metadata": {},
   "outputs": [
    {
     "data": {
      "text/plain": [
       "['Bengin cases', 'Malignant cases', 'Normal cases']"
      ]
     },
     "execution_count": 19,
     "metadata": {},
     "output_type": "execute_result"
    }
   ],
   "source": [
    "target_names"
   ]
  },
  {
   "cell_type": "code",
   "execution_count": 21,
   "metadata": {},
   "outputs": [
    {
     "name": "stdout",
     "output_type": "stream",
     "text": [
      "Classification Report\n",
      "                 precision    recall  f1-score   support\n",
      "\n",
      "   Bengin cases       0.07      0.11      0.09        36\n",
      "Malignant cases       0.53      0.55      0.54       168\n",
      "   Normal cases       0.35      0.27      0.31       125\n",
      "\n",
      "       accuracy                           0.40       329\n",
      "      macro avg       0.32      0.31      0.31       329\n",
      "   weighted avg       0.41      0.40      0.40       329\n",
      "\n"
     ]
    }
   ],
   "source": [
    "#Print Classification Report\n",
    "Y_pred = model.predict(test_set)\n",
    "\n",
    "y_pred = np.argmax(Y_pred, axis=1)\n",
    "from sklearn.metrics import classification_report\n",
    "print('Classification Report')\n",
    "\n",
    "print(classification_report(test_set.classes, y_pred, target_names=target_names))"
   ]
  },
  {
   "cell_type": "code",
   "execution_count": null,
   "metadata": {},
   "outputs": [],
   "source": []
  }
 ],
 "metadata": {
  "kernelspec": {
   "display_name": "gpu",
   "language": "python",
   "name": "gpu"
  },
  "language_info": {
   "codemirror_mode": {
    "name": "ipython",
    "version": 3
   },
   "file_extension": ".py",
   "mimetype": "text/x-python",
   "name": "python",
   "nbconvert_exporter": "python",
   "pygments_lexer": "ipython3",
   "version": "3.8.8"
  }
 },
 "nbformat": 4,
 "nbformat_minor": 4
}
